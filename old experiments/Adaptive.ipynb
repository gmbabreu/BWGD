{
 "cells": [
  {
   "cell_type": "code",
   "execution_count": 1,
   "id": "5eda1cbf-fb0b-468f-aebc-660e7da55c57",
   "metadata": {},
   "outputs": [],
   "source": [
    "import matplotlib.pyplot as plt\n",
    "from scipy.linalg import sqrtm, inv\n",
    "import numpy as np"
   ]
  },
  {
   "cell_type": "code",
   "execution_count": 6,
   "id": "e3a6d05f-395e-4015-9896-2175d630d06c",
   "metadata": {},
   "outputs": [],
   "source": [
    "def bwgd_adaptive(y, A, niter, threshold):\n",
    "    d, n = A.shape  \n",
    "    x = np.zeros((niter, d))  \n",
    "    x[0] = np.random.randn(d)  \n",
    "\n",
    "    # Descent\n",
    "    for iter in range(1, niter):\n",
    "        # Discard samples\n",
    "        indices = np.abs(A.T @ x[iter - 1]) >= threshold        \n",
    "        A_filtered = A.T[indices].T.copy()\n",
    "        y_filtered = y[indices].copy()\n",
    "\n",
    "        # Covariance matrix transform\n",
    "        C = A_filtered @ A_filtered.T / n\n",
    "        C_sqrt = sqrtm(C)\n",
    "        C_inv = np.real(inv(C_sqrt))\n",
    "        A_tilde = C_inv @ A_filtered \n",
    "        x_tilde = C_sqrt @ x[iter - 1]\n",
    "\n",
    "        # Descent\n",
    "        b = A_tilde @ (np.sqrt(y_filtered) * (A_tilde.T @ x_tilde) / np.abs(A_tilde.T @ x_tilde))\n",
    "\n",
    "        eta = 1/(np.linalg.norm(b - x_tilde)**2 - np.linalg.norm(b - x_tilde) / 2)\n",
    "        \n",
    "        x_tilde = (1 - eta) * x_tilde + (eta / n) * b\n",
    "\n",
    "        x[iter] = C_inv @ x_tilde\n",
    "        \n",
    "    return x"
   ]
  },
  {
   "cell_type": "code",
   "execution_count": 17,
   "id": "180b8e47-1c45-46dc-a141-89e0d49d1cde",
   "metadata": {},
   "outputs": [
    {
     "data": {
      "text/plain": [
       "51981324.462223135"
      ]
     },
     "execution_count": 17,
     "metadata": {},
     "output_type": "execute_result"
    }
   ],
   "source": [
    "sum_gradient = A @ (np.sqrt(y) * (A.T @ x) / np.abs(A.T @ x))\n",
    "(np.linalg.norm(x - sum_gradient)**2 - np.linalg.norm(x - sum_gradient) / 2)"
   ]
  },
  {
   "cell_type": "code",
   "execution_count": 22,
   "id": "baf65312-87c9-4737-8da7-59e15a1d113c",
   "metadata": {},
   "outputs": [
    {
     "data": {
      "text/plain": [
       "-3605.0287617085955"
      ]
     },
     "execution_count": 22,
     "metadata": {},
     "output_type": "execute_result"
    }
   ],
   "source": [
    "- np.linalg.norm(x - sum_gradient) / 2"
   ]
  },
  {
   "cell_type": "code",
   "execution_count": 4,
   "id": "af5ab646-de56-41ee-a331-1ddc0c7c17f9",
   "metadata": {},
   "outputs": [],
   "source": [
    "# Take minimum error for positive and negative x\n",
    "def min_error(x_hat, x_star):\n",
    "    errors = []\n",
    "    for x in x_hat:\n",
    "            error_positive = np.linalg.norm(x_star - x)\n",
    "            error_negative = np.linalg.norm(-1*x_star - x)\n",
    "            errors.append(min(error_positive, error_negative))\n",
    "    return errors"
   ]
  },
  {
   "cell_type": "code",
   "execution_count": 7,
   "id": "93cc22a9-c871-4230-8766-35193c5c5516",
   "metadata": {},
   "outputs": [
    {
     "data": {
      "image/png": "[encoded data removed]",
      "text/plain": [
       "<Figure size 640x480 with 1 Axes>"
      ]
     },
     "metadata": {},
     "output_type": "display_data"
    }
   ],
   "source": [
    "n = 1000\n",
    "d = 50\n",
    "errors = []\n",
    "thresholds =  np.array([8, 6, 4, 2, 1e+00, 1e-01, 1e-02, 1e-03, 0])\n",
    "thresholds =  np.array([10])\n",
    "\n",
    "\n",
    "for threshold in thresholds:\n",
    "    threshold_error = []\n",
    "    for j in range(1, 101):  \n",
    "        # Generate vectors\n",
    "        x = np.ones(d)\n",
    "        A = np.random.randn(d, n)\n",
    "        y = np.square(A.T @ x)\n",
    "        \n",
    "        # Run the algorithm\n",
    "        x_hat = bwgd_adaptive(y, A, 40, threshold)\n",
    "\n",
    "        error = min_error(x_hat, x)\n",
    "        threshold_error.append(error)\n",
    "        \n",
    "        # Plot results\n",
    "        plt.plot(error)\n",
    "\n",
    "    errors.append(threshold_error)\n",
    "\n",
    "    plt.title(f'Threshold={threshold}')\n",
    "    plt.grid(True)\n",
    "    plt.show()"
   ]
  },
  {
   "cell_type": "code",
   "execution_count": null,
   "id": "13d7644d-db6e-4b51-8d0a-07c685fff576",
   "metadata": {},
   "outputs": [],
   "source": []
  }
 ],
 "metadata": {
  "kernelspec": {
   "display_name": "Python 3 (ipykernel)",
   "language": "python",
   "name": "python3"
  },
  "language_info": {
   "codemirror_mode": {
    "name": "ipython",
    "version": 3
   },
   "file_extension": ".py",
   "mimetype": "text/x-python",
   "name": "python",
   "nbconvert_exporter": "python",
   "pygments_lexer": "ipython3",
   "version": "3.11.5"
  }
 },
 "nbformat": 4,
 "nbformat_minor": 5
}
