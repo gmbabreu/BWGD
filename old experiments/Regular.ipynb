{
 "cells": [
  {
   "cell_type": "code",
   "execution_count": 2,
   "id": "26c07ec5-e768-440a-8fd0-cf2eb9ac0aed",
   "metadata": {},
   "outputs": [],
   "source": [
    "import matplotlib.pyplot as plt\n",
    "from scipy.linalg import sqrtm, inv\n",
    "import numpy as np"
   ]
  },
  {
   "cell_type": "markdown",
   "id": "2ebe2328-4f74-47f6-a666-8a72a3c6279c",
   "metadata": {},
   "source": [
    "Regular BWGD"
   ]
  },
  {
   "cell_type": "code",
   "execution_count": 54,
   "id": "e95a3bfb-f204-4dc2-bcbd-6a2041876c1e",
   "metadata": {},
   "outputs": [],
   "source": [
    "# Old code for BWGD for A nxd\n",
    "def bwgd2(y, A, eta, niter, x_true):\n",
    "    n,d = A.shape\n",
    "    x = np.random.randn(d)\n",
    "    error = np.zeros(niter)\n",
    "\n",
    "    # Covariance matrix transform\n",
    "    C =  A.T @ A / n   \n",
    "    C_inv = np.real(inv(sqrtm(C)))\n",
    "    A_t = A @ C_inv \n",
    "\n",
    "    # Descent\n",
    "    for iter in range(niter):\n",
    "        error[iter] = np.mean((x @ C_sqrt - x_true)**2)\n",
    "        sum = np.zeros_like(x)\n",
    "        for i in range(n):\n",
    "            sum += x@(np.sqrt(y[i]) * np.outer(A_t[i],A_t[i].T))/abs(A_t[i].T @ x)\n",
    "        x = (1-eta) * x + (eta/n)*sum\n",
    "    error[iter] = np.mean((x @ C_sqrt - x_true)**2)\n",
    "\n",
    "    # Invert transform\n",
    "    x_hat = x @ C_sqrt\n",
    "\n",
    "    return x_hat, error\n"
   ]
  },
  {
   "cell_type": "code",
   "execution_count": 55,
   "id": "bad8865c-c365-477c-bab3-738ce9803d6f",
   "metadata": {},
   "outputs": [],
   "source": [
    "# BWGD for A dxn\n",
    "def bwgd(y, A, eta, niter):\n",
    "    d, n = A.shape  \n",
    "    x = np.zeros((niter, d))  \n",
    "    x[0] = np.random.randn(d)\n",
    "\n",
    "    # Covariance matrix transform\n",
    "    C = A @ A.T / n   \n",
    "    C_inv = np.real(inv(sqrtm(C)))\n",
    "    A_t = C_inv @ A \n",
    "\n",
    "    # Descent\n",
    "    for iter in range(1, niter):\n",
    "        sum_gradient = A_t @ (np.sqrt(y) * (A_t.T @ x[iter - 1]) / np.abs(A_t.T @ x[iter - 1]))\n",
    "        x[iter] = (1 - eta) * x[iter - 1] + (eta / n) * sum_gradient\n",
    "\n",
    "    # Invert\n",
    "    x_hat = np.array([C_inv @ i for i in x])\n",
    "    \n",
    "    return x_hat"
   ]
  },
  {
   "cell_type": "code",
   "execution_count": 82,
   "id": "85878e1a-4d65-48ff-a071-12ebdd5a72c3",
   "metadata": {},
   "outputs": [
    {
     "name": "stdout",
     "output_type": "stream",
     "text": [
      "[-1. -1. -1. -1. -1. -1. -1. -1. -1. -1. -1. -1. -1. -1. -1. -1. -1. -1.\n",
      " -1. -1. -1. -1. -1. -1. -1. -1. -1. -1. -1. -1. -1. -1. -1. -1. -1. -1.\n",
      " -1. -1. -1. -1. -1. -1. -1. -1. -1. -1. -1. -1. -1. -1.]\n",
      "14.142135623730951\n"
     ]
    }
   ],
   "source": [
    "n = 1000\n",
    "d = 50\n",
    "# Generate vectors\n",
    "x = np.ones(d)\n",
    "A = np.random.randn(d, n)\n",
    "y = np.square(A.T @ x)\n",
    "        \n",
    "# Run the algorithm\n",
    "x_hat = bwgd(y, A, 1, 40)\n",
    "error = np.linalg.norm(x_hat[-1] - x)\n",
    "print(x_hat[-1])\n",
    "print(error)"
   ]
  },
  {
   "cell_type": "code",
   "execution_count": null,
   "id": "1e068728-092d-4858-8132-35c1fc986b01",
   "metadata": {},
   "outputs": [],
   "source": []
  }
 ],
 "metadata": {
  "kernelspec": {
   "display_name": "Python 3 (ipykernel)",
   "language": "python",
   "name": "python3"
  },
  "language_info": {
   "codemirror_mode": {
    "name": "ipython",
    "version": 3
   },
   "file_extension": ".py",
   "mimetype": "text/x-python",
   "name": "python",
   "nbconvert_exporter": "python",
   "pygments_lexer": "ipython3",
   "version": "3.11.5"
  }
 },
 "nbformat": 4,
 "nbformat_minor": 5
}
